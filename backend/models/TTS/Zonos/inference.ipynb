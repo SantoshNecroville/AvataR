{
  "cells": [
    {
      "cell_type": "code",
      "execution_count": 1,
      "metadata": {
        "colab": {
          "base_uri": "https://localhost:8080/"
        },
        "id": "f2XHPbift0H3",
        "outputId": "de0bcc59-71b2-40d5-ed63-da9d8048ad84"
      },
      "outputs": [
        {
          "name": "stderr",
          "output_type": "stream",
          "text": [
            "fatal: destination path 'Zonos' already exists and is not an empty directory.\n"
          ]
        }
      ],
      "source": [
        "!git clone https://github.com/Zyphra/Zonos.git"
      ]
    },
    {
      "cell_type": "code",
      "execution_count": 2,
      "metadata": {},
      "outputs": [],
      "source": [
        "import os"
      ]
    },
    {
      "cell_type": "code",
      "execution_count": 5,
      "metadata": {},
      "outputs": [
        {
          "name": "stdout",
          "output_type": "stream",
          "text": [
            "c:\\Users\\papur\\Desktop\\AvatarAI Project\\g362\\AvatarLab-G362-PS25\\models\\Zonos\\Zonos\n"
          ]
        }
      ],
      "source": [
        "%cd Zonos"
      ]
    },
    {
      "cell_type": "code",
      "execution_count": 6,
      "metadata": {},
      "outputs": [
        {
          "data": {
            "text/plain": [
              "'c:\\\\Users\\\\papur\\\\Desktop\\\\AvatarAI Project\\\\g362\\\\AvatarLab-G362-PS25\\\\models\\\\Zonos\\\\Zonos'"
            ]
          },
          "execution_count": 6,
          "metadata": {},
          "output_type": "execute_result"
        }
      ],
      "source": [
        "os.getcwd()"
      ]
    },
    {
      "cell_type": "code",
      "execution_count": null,
      "metadata": {
        "colab": {
          "base_uri": "https://localhost:8080/"
        },
        "id": "K2BSfI9-t3ly",
        "outputId": "82048490-3fcc-4197-8dc8-435fcdca4b31"
      },
      "outputs": [],
      "source": [
        "%pip install -e ."
      ]
    },
    {
      "cell_type": "code",
      "execution_count": null,
      "metadata": {
        "colab": {
          "base_uri": "https://localhost:8080/",
          "height": 428
        },
        "id": "cPy7nNFvvIFf",
        "outputId": "212a3d35-e63d-4cf9-d4ee-f36cf0ddcd1d"
      },
      "outputs": [],
      "source": [
        "%pip install numpy==1.24.4"
      ]
    },
    {
      "cell_type": "code",
      "execution_count": 3,
      "metadata": {
        "colab": {
          "base_uri": "https://localhost:8080/"
        },
        "id": "2FL6ucoJ38Mc",
        "outputId": "da5c0203-1328-4bb9-c556-c03cfc1bf125"
      },
      "outputs": [
        {
          "name": "stdout",
          "output_type": "stream",
          "text": [
            "speak text-to-speech: 1.48.03  04.Mar.14   Data at: C:\\Program Files (x86)\\eSpeak\\espeak-data\n"
          ]
        }
      ],
      "source": [
        "!espeak --version"
      ]
    },
    {
      "cell_type": "code",
      "execution_count": null,
      "metadata": {
        "id": "s1_tuc5DiNo-"
      },
      "outputs": [],
      "source": [
        "%pip install numpy>=1.24.0"
      ]
    },
    {
      "cell_type": "code",
      "execution_count": null,
      "metadata": {
        "colab": {
          "base_uri": "https://localhost:8080/"
        },
        "id": "C0OMzoELi7w-",
        "outputId": "27de196e-74d5-4fd5-8007-3d21b1b47117"
      },
      "outputs": [],
      "source": [
        "%pip install -U jax jaxlib"
      ]
    },
    {
      "cell_type": "code",
      "execution_count": null,
      "metadata": {
        "colab": {
          "base_uri": "https://localhost:8080/"
        },
        "id": "jShyaVHfjMAE",
        "outputId": "a3d6a67d-20e1-4f4a-9325-00cd6c5e72c5"
      },
      "outputs": [],
      "source": [
        "%pip install --upgrade jax jaxlib"
      ]
    },
    {
      "cell_type": "code",
      "execution_count": null,
      "metadata": {},
      "outputs": [],
      "source": [
        "!pip install numpy==1.24.0"
      ]
    },
    {
      "cell_type": "code",
      "execution_count": null,
      "metadata": {},
      "outputs": [],
      "source": [
        "%pip install --upgrade transformers"
      ]
    },
    {
      "cell_type": "code",
      "execution_count": null,
      "metadata": {},
      "outputs": [],
      "source": [
        "%pip install phonemizer==2.2.2"
      ]
    },
    {
      "cell_type": "code",
      "execution_count": 4,
      "metadata": {},
      "outputs": [],
      "source": [
        "import os\n",
        "\n",
        "os.environ[\"PHONEMIZER_ESPEAK_PATH\"] = r\"C:\\Program Files (x86)\\eSpeak\\command_line\\espeak.exe\"\n",
        "os.environ[\"PHONEMIZER_ESPEAK_LIBRARY\"] = r\"C:\\Program Files (x86)\\eSpeak\\espeak_sap.dll\""
      ]
    },
    {
      "cell_type": "code",
      "execution_count": 24,
      "metadata": {},
      "outputs": [],
      "source": [
        "import torch._dynamo\n",
        "torch._dynamo.config.suppress_errors = True\n",
        "\n",
        "import warnings\n",
        "warnings.filterwarnings(\"ignore\", category=UserWarning)\n",
        "\n",
        "import logging\n",
        "logging.getLogger(\"torch._dynamo\").setLevel(logging.CRITICAL)\n",
        "\n",
        "warnings.filterwarnings(\"ignore\", category=UserWarning)\n"
      ]
    },
    {
      "cell_type": "code",
      "execution_count": 7,
      "metadata": {},
      "outputs": [
        {
          "name": "stderr",
          "output_type": "stream",
          "text": [
            "c:\\Users\\papur\\anaconda3\\envs\\zono\\lib\\site-packages\\tqdm\\auto.py:21: TqdmWarning: IProgress not found. Please update jupyter and ipywidgets. See https://ipywidgets.readthedocs.io/en/stable/user_install.html\n",
            "  from .autonotebook import tqdm as notebook_tqdm\n"
          ]
        }
      ],
      "source": [
        "import torch\n",
        "import torchaudio\n",
        "from zonos.model import Zonos\n",
        "from zonos.conditioning import make_cond_dict\n",
        "from zonos.utils import DEFAULT_DEVICE as device"
      ]
    },
    {
      "cell_type": "code",
      "execution_count": 12,
      "metadata": {
        "colab": {
          "base_uri": "https://localhost:8080/"
        },
        "id": "uscE-eoZt4xM",
        "outputId": "4caf2d7c-916a-4b1f-e10f-2083dac659c8"
      },
      "outputs": [],
      "source": [
        "model = Zonos.from_pretrained(\"Zyphra/Zonos-v0.1-transformer\", device=device)\n",
        "\n",
        "wav, sampling_rate = torchaudio.load(\"..//voices/santosh2.wav\")\n",
        "speaker = model.make_speaker_embedding(wav, sampling_rate)"
      ]
    },
    {
      "cell_type": "code",
      "execution_count": null,
      "metadata": {},
      "outputs": [],
      "source": [
        "cond_dict = make_cond_dict(text=\"Hello, world!. I am santosh, a student of keshav memorial institute of technology.\", speaker=speaker, language=\"en-us\")\n",
        "conditioning = model.prepare_conditioning(cond_dict)\n",
        "\n",
        "codes = model.generate(conditioning)\n",
        "\n",
        "wavs = model.autoencoder.decode(codes).cpu()\n",
        "torchaudio.save(\"..//voices/output.wav\", wavs[0], model.autoencoder.sampling_rate)"
      ]
    },
    {
      "cell_type": "code",
      "execution_count": null,
      "metadata": {
        "colab": {
          "base_uri": "https://localhost:8080/",
          "height": 76
        },
        "id": "lAMZuMRilRgC",
        "outputId": "35001281-b540-4431-ff46-9da40ec11033"
      },
      "outputs": [],
      "source": [
        "from IPython.display import Audio\n",
        "Audio(\".//voices/output.wav\")"
      ]
    },
    {
      "cell_type": "code",
      "execution_count": null,
      "metadata": {},
      "outputs": [],
      "source": []
    }
  ],
  "metadata": {
    "accelerator": "GPU",
    "colab": {
      "gpuType": "T4",
      "provenance": []
    },
    "kernelspec": {
      "display_name": "zono",
      "language": "python",
      "name": "python3"
    },
    "language_info": {
      "codemirror_mode": {
        "name": "ipython",
        "version": 3
      },
      "file_extension": ".py",
      "mimetype": "text/x-python",
      "name": "python",
      "nbconvert_exporter": "python",
      "pygments_lexer": "ipython3",
      "version": "3.10.16"
    }
  },
  "nbformat": 4,
  "nbformat_minor": 0
}
